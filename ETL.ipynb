{
 "cells": [
  {
   "cell_type": "code",
   "execution_count": 1,
   "id": "440c4d15-6650-422c-b122-e351527e1a9c",
   "metadata": {},
   "outputs": [
    {
     "data": {
      "text/html": [
       "<div>\n",
       "<style scoped>\n",
       "    .dataframe tbody tr th:only-of-type {\n",
       "        vertical-align: middle;\n",
       "    }\n",
       "\n",
       "    .dataframe tbody tr th {\n",
       "        vertical-align: top;\n",
       "    }\n",
       "\n",
       "    .dataframe thead th {\n",
       "        text-align: right;\n",
       "    }\n",
       "</style>\n",
       "<table border=\"1\" class=\"dataframe\">\n",
       "  <thead>\n",
       "    <tr style=\"text-align: right;\">\n",
       "      <th></th>\n",
       "      <th>dr_no</th>\n",
       "      <th>date_rptd</th>\n",
       "      <th>date_occ</th>\n",
       "      <th>time_occ</th>\n",
       "      <th>area</th>\n",
       "      <th>area_name</th>\n",
       "      <th>rpt_dist_no</th>\n",
       "      <th>part_1_2</th>\n",
       "      <th>crm_cd</th>\n",
       "      <th>crm_cd_desc</th>\n",
       "      <th>...</th>\n",
       "      <th>lat</th>\n",
       "      <th>lon</th>\n",
       "      <th>weapon_used_cd</th>\n",
       "      <th>weapon_desc</th>\n",
       "      <th>cross_street</th>\n",
       "      <th>vict_sex</th>\n",
       "      <th>vict_descent</th>\n",
       "      <th>crm_cd_2</th>\n",
       "      <th>crm_cd_3</th>\n",
       "      <th>crm_cd_4</th>\n",
       "    </tr>\n",
       "  </thead>\n",
       "  <tbody>\n",
       "    <tr>\n",
       "      <th>0</th>\n",
       "      <td>230915611</td>\n",
       "      <td>2023-10-23T00:00:00.000</td>\n",
       "      <td>2023-10-09T00:00:00.000</td>\n",
       "      <td>1735</td>\n",
       "      <td>09</td>\n",
       "      <td>Van Nuys</td>\n",
       "      <td>0946</td>\n",
       "      <td>2</td>\n",
       "      <td>740</td>\n",
       "      <td>VANDALISM - FELONY ($400 &amp; OVER, ALL CHURCH VA...</td>\n",
       "      <td>...</td>\n",
       "      <td>34.1794</td>\n",
       "      <td>-118.4356</td>\n",
       "      <td>NaN</td>\n",
       "      <td>NaN</td>\n",
       "      <td>NaN</td>\n",
       "      <td>NaN</td>\n",
       "      <td>NaN</td>\n",
       "      <td>NaN</td>\n",
       "      <td>NaN</td>\n",
       "      <td>NaN</td>\n",
       "    </tr>\n",
       "    <tr>\n",
       "      <th>1</th>\n",
       "      <td>231319398</td>\n",
       "      <td>2023-10-23T00:00:00.000</td>\n",
       "      <td>2023-10-23T00:00:00.000</td>\n",
       "      <td>0920</td>\n",
       "      <td>13</td>\n",
       "      <td>Newton</td>\n",
       "      <td>1323</td>\n",
       "      <td>2</td>\n",
       "      <td>624</td>\n",
       "      <td>BATTERY - SIMPLE ASSAULT</td>\n",
       "      <td>...</td>\n",
       "      <td>34.0213</td>\n",
       "      <td>-118.2535</td>\n",
       "      <td>400</td>\n",
       "      <td>STRONG-ARM (HANDS, FIST, FEET OR BODILY FORCE)</td>\n",
       "      <td>CENTRAL                      AV</td>\n",
       "      <td>NaN</td>\n",
       "      <td>NaN</td>\n",
       "      <td>NaN</td>\n",
       "      <td>NaN</td>\n",
       "      <td>NaN</td>\n",
       "    </tr>\n",
       "    <tr>\n",
       "      <th>2</th>\n",
       "      <td>230716147</td>\n",
       "      <td>2023-10-23T00:00:00.000</td>\n",
       "      <td>2023-10-22T00:00:00.000</td>\n",
       "      <td>1900</td>\n",
       "      <td>07</td>\n",
       "      <td>Wilshire</td>\n",
       "      <td>0785</td>\n",
       "      <td>1</td>\n",
       "      <td>510</td>\n",
       "      <td>VEHICLE - STOLEN</td>\n",
       "      <td>...</td>\n",
       "      <td>34.0372</td>\n",
       "      <td>-118.3423</td>\n",
       "      <td>NaN</td>\n",
       "      <td>NaN</td>\n",
       "      <td>NaN</td>\n",
       "      <td>NaN</td>\n",
       "      <td>NaN</td>\n",
       "      <td>NaN</td>\n",
       "      <td>NaN</td>\n",
       "      <td>NaN</td>\n",
       "    </tr>\n",
       "    <tr>\n",
       "      <th>3</th>\n",
       "      <td>231516446</td>\n",
       "      <td>2023-10-23T00:00:00.000</td>\n",
       "      <td>2023-10-07T00:00:00.000</td>\n",
       "      <td>1550</td>\n",
       "      <td>15</td>\n",
       "      <td>N Hollywood</td>\n",
       "      <td>1563</td>\n",
       "      <td>1</td>\n",
       "      <td>310</td>\n",
       "      <td>BURGLARY</td>\n",
       "      <td>...</td>\n",
       "      <td>34.1522</td>\n",
       "      <td>-118.3801</td>\n",
       "      <td>NaN</td>\n",
       "      <td>NaN</td>\n",
       "      <td>NaN</td>\n",
       "      <td>F</td>\n",
       "      <td>W</td>\n",
       "      <td>NaN</td>\n",
       "      <td>NaN</td>\n",
       "      <td>NaN</td>\n",
       "    </tr>\n",
       "    <tr>\n",
       "      <th>4</th>\n",
       "      <td>230915602</td>\n",
       "      <td>2023-10-23T00:00:00.000</td>\n",
       "      <td>2023-10-23T00:00:00.000</td>\n",
       "      <td>0800</td>\n",
       "      <td>09</td>\n",
       "      <td>Van Nuys</td>\n",
       "      <td>0926</td>\n",
       "      <td>2</td>\n",
       "      <td>901</td>\n",
       "      <td>VIOLATION OF RESTRAINING ORDER</td>\n",
       "      <td>...</td>\n",
       "      <td>34.1877</td>\n",
       "      <td>-118.4443</td>\n",
       "      <td>NaN</td>\n",
       "      <td>NaN</td>\n",
       "      <td>NaN</td>\n",
       "      <td>F</td>\n",
       "      <td>H</td>\n",
       "      <td>NaN</td>\n",
       "      <td>NaN</td>\n",
       "      <td>NaN</td>\n",
       "    </tr>\n",
       "    <tr>\n",
       "      <th>...</th>\n",
       "      <td>...</td>\n",
       "      <td>...</td>\n",
       "      <td>...</td>\n",
       "      <td>...</td>\n",
       "      <td>...</td>\n",
       "      <td>...</td>\n",
       "      <td>...</td>\n",
       "      <td>...</td>\n",
       "      <td>...</td>\n",
       "      <td>...</td>\n",
       "      <td>...</td>\n",
       "      <td>...</td>\n",
       "      <td>...</td>\n",
       "      <td>...</td>\n",
       "      <td>...</td>\n",
       "      <td>...</td>\n",
       "      <td>...</td>\n",
       "      <td>...</td>\n",
       "      <td>...</td>\n",
       "      <td>...</td>\n",
       "      <td>...</td>\n",
       "    </tr>\n",
       "    <tr>\n",
       "      <th>99995</th>\n",
       "      <td>230609985</td>\n",
       "      <td>2023-05-19T00:00:00.000</td>\n",
       "      <td>2023-05-18T00:00:00.000</td>\n",
       "      <td>2040</td>\n",
       "      <td>06</td>\n",
       "      <td>Hollywood</td>\n",
       "      <td>0632</td>\n",
       "      <td>2</td>\n",
       "      <td>740</td>\n",
       "      <td>VANDALISM - FELONY ($400 &amp; OVER, ALL CHURCH VA...</td>\n",
       "      <td>...</td>\n",
       "      <td>34.0952</td>\n",
       "      <td>-118.3727</td>\n",
       "      <td>NaN</td>\n",
       "      <td>NaN</td>\n",
       "      <td>NaN</td>\n",
       "      <td>M</td>\n",
       "      <td>O</td>\n",
       "      <td>NaN</td>\n",
       "      <td>NaN</td>\n",
       "      <td>NaN</td>\n",
       "    </tr>\n",
       "    <tr>\n",
       "      <th>99996</th>\n",
       "      <td>230112664</td>\n",
       "      <td>2023-05-19T00:00:00.000</td>\n",
       "      <td>2023-05-19T00:00:00.000</td>\n",
       "      <td>2100</td>\n",
       "      <td>01</td>\n",
       "      <td>Central</td>\n",
       "      <td>0191</td>\n",
       "      <td>1</td>\n",
       "      <td>210</td>\n",
       "      <td>ROBBERY</td>\n",
       "      <td>...</td>\n",
       "      <td>34.0406</td>\n",
       "      <td>-118.268</td>\n",
       "      <td>102</td>\n",
       "      <td>HAND GUN</td>\n",
       "      <td>PICO                         DR</td>\n",
       "      <td>M</td>\n",
       "      <td>W</td>\n",
       "      <td>NaN</td>\n",
       "      <td>NaN</td>\n",
       "      <td>NaN</td>\n",
       "    </tr>\n",
       "    <tr>\n",
       "      <th>99997</th>\n",
       "      <td>230809804</td>\n",
       "      <td>2023-05-19T00:00:00.000</td>\n",
       "      <td>2023-05-09T00:00:00.000</td>\n",
       "      <td>0005</td>\n",
       "      <td>08</td>\n",
       "      <td>West LA</td>\n",
       "      <td>0829</td>\n",
       "      <td>2</td>\n",
       "      <td>354</td>\n",
       "      <td>THEFT OF IDENTITY</td>\n",
       "      <td>...</td>\n",
       "      <td>34.068</td>\n",
       "      <td>-118.4254</td>\n",
       "      <td>NaN</td>\n",
       "      <td>NaN</td>\n",
       "      <td>NaN</td>\n",
       "      <td>M</td>\n",
       "      <td>W</td>\n",
       "      <td>NaN</td>\n",
       "      <td>NaN</td>\n",
       "      <td>NaN</td>\n",
       "    </tr>\n",
       "    <tr>\n",
       "      <th>99998</th>\n",
       "      <td>230809844</td>\n",
       "      <td>2023-05-19T00:00:00.000</td>\n",
       "      <td>2023-05-19T00:00:00.000</td>\n",
       "      <td>1950</td>\n",
       "      <td>08</td>\n",
       "      <td>West LA</td>\n",
       "      <td>0839</td>\n",
       "      <td>1</td>\n",
       "      <td>343</td>\n",
       "      <td>SHOPLIFTING-GRAND THEFT ($950.01 &amp; OVER)</td>\n",
       "      <td>...</td>\n",
       "      <td>34.0611</td>\n",
       "      <td>-118.4184</td>\n",
       "      <td>NaN</td>\n",
       "      <td>NaN</td>\n",
       "      <td>NaN</td>\n",
       "      <td>X</td>\n",
       "      <td>X</td>\n",
       "      <td>NaN</td>\n",
       "      <td>NaN</td>\n",
       "      <td>NaN</td>\n",
       "    </tr>\n",
       "    <tr>\n",
       "      <th>99999</th>\n",
       "      <td>231310941</td>\n",
       "      <td>2023-05-19T00:00:00.000</td>\n",
       "      <td>2023-05-18T00:00:00.000</td>\n",
       "      <td>2006</td>\n",
       "      <td>13</td>\n",
       "      <td>Newton</td>\n",
       "      <td>1307</td>\n",
       "      <td>2</td>\n",
       "      <td>890</td>\n",
       "      <td>FAILURE TO YIELD</td>\n",
       "      <td>...</td>\n",
       "      <td>34.0407</td>\n",
       "      <td>-118.2468</td>\n",
       "      <td>NaN</td>\n",
       "      <td>NaN</td>\n",
       "      <td>NaN</td>\n",
       "      <td>X</td>\n",
       "      <td>X</td>\n",
       "      <td>998</td>\n",
       "      <td>NaN</td>\n",
       "      <td>NaN</td>\n",
       "    </tr>\n",
       "  </tbody>\n",
       "</table>\n",
       "<p>100000 rows × 28 columns</p>\n",
       "</div>"
      ],
      "text/plain": [
       "           dr_no                date_rptd                 date_occ time_occ  \\\n",
       "0      230915611  2023-10-23T00:00:00.000  2023-10-09T00:00:00.000     1735   \n",
       "1      231319398  2023-10-23T00:00:00.000  2023-10-23T00:00:00.000     0920   \n",
       "2      230716147  2023-10-23T00:00:00.000  2023-10-22T00:00:00.000     1900   \n",
       "3      231516446  2023-10-23T00:00:00.000  2023-10-07T00:00:00.000     1550   \n",
       "4      230915602  2023-10-23T00:00:00.000  2023-10-23T00:00:00.000     0800   \n",
       "...          ...                      ...                      ...      ...   \n",
       "99995  230609985  2023-05-19T00:00:00.000  2023-05-18T00:00:00.000     2040   \n",
       "99996  230112664  2023-05-19T00:00:00.000  2023-05-19T00:00:00.000     2100   \n",
       "99997  230809804  2023-05-19T00:00:00.000  2023-05-09T00:00:00.000     0005   \n",
       "99998  230809844  2023-05-19T00:00:00.000  2023-05-19T00:00:00.000     1950   \n",
       "99999  231310941  2023-05-19T00:00:00.000  2023-05-18T00:00:00.000     2006   \n",
       "\n",
       "      area    area_name rpt_dist_no part_1_2 crm_cd  \\\n",
       "0       09     Van Nuys        0946        2    740   \n",
       "1       13       Newton        1323        2    624   \n",
       "2       07     Wilshire        0785        1    510   \n",
       "3       15  N Hollywood        1563        1    310   \n",
       "4       09     Van Nuys        0926        2    901   \n",
       "...    ...          ...         ...      ...    ...   \n",
       "99995   06    Hollywood        0632        2    740   \n",
       "99996   01      Central        0191        1    210   \n",
       "99997   08      West LA        0829        2    354   \n",
       "99998   08      West LA        0839        1    343   \n",
       "99999   13       Newton        1307        2    890   \n",
       "\n",
       "                                             crm_cd_desc  ...      lat  \\\n",
       "0      VANDALISM - FELONY ($400 & OVER, ALL CHURCH VA...  ...  34.1794   \n",
       "1                               BATTERY - SIMPLE ASSAULT  ...  34.0213   \n",
       "2                                       VEHICLE - STOLEN  ...  34.0372   \n",
       "3                                               BURGLARY  ...  34.1522   \n",
       "4                         VIOLATION OF RESTRAINING ORDER  ...  34.1877   \n",
       "...                                                  ...  ...      ...   \n",
       "99995  VANDALISM - FELONY ($400 & OVER, ALL CHURCH VA...  ...  34.0952   \n",
       "99996                                            ROBBERY  ...  34.0406   \n",
       "99997                                  THEFT OF IDENTITY  ...   34.068   \n",
       "99998           SHOPLIFTING-GRAND THEFT ($950.01 & OVER)  ...  34.0611   \n",
       "99999                                   FAILURE TO YIELD  ...  34.0407   \n",
       "\n",
       "             lon weapon_used_cd  \\\n",
       "0      -118.4356            NaN   \n",
       "1      -118.2535            400   \n",
       "2      -118.3423            NaN   \n",
       "3      -118.3801            NaN   \n",
       "4      -118.4443            NaN   \n",
       "...          ...            ...   \n",
       "99995  -118.3727            NaN   \n",
       "99996   -118.268            102   \n",
       "99997  -118.4254            NaN   \n",
       "99998  -118.4184            NaN   \n",
       "99999  -118.2468            NaN   \n",
       "\n",
       "                                          weapon_desc  \\\n",
       "0                                                 NaN   \n",
       "1      STRONG-ARM (HANDS, FIST, FEET OR BODILY FORCE)   \n",
       "2                                                 NaN   \n",
       "3                                                 NaN   \n",
       "4                                                 NaN   \n",
       "...                                               ...   \n",
       "99995                                             NaN   \n",
       "99996                                        HAND GUN   \n",
       "99997                                             NaN   \n",
       "99998                                             NaN   \n",
       "99999                                             NaN   \n",
       "\n",
       "                          cross_street vict_sex vict_descent crm_cd_2  \\\n",
       "0                                  NaN      NaN          NaN      NaN   \n",
       "1      CENTRAL                      AV      NaN          NaN      NaN   \n",
       "2                                  NaN      NaN          NaN      NaN   \n",
       "3                                  NaN        F            W      NaN   \n",
       "4                                  NaN        F            H      NaN   \n",
       "...                                ...      ...          ...      ...   \n",
       "99995                              NaN        M            O      NaN   \n",
       "99996  PICO                         DR        M            W      NaN   \n",
       "99997                              NaN        M            W      NaN   \n",
       "99998                              NaN        X            X      NaN   \n",
       "99999                              NaN        X            X      998   \n",
       "\n",
       "      crm_cd_3 crm_cd_4  \n",
       "0          NaN      NaN  \n",
       "1          NaN      NaN  \n",
       "2          NaN      NaN  \n",
       "3          NaN      NaN  \n",
       "4          NaN      NaN  \n",
       "...        ...      ...  \n",
       "99995      NaN      NaN  \n",
       "99996      NaN      NaN  \n",
       "99997      NaN      NaN  \n",
       "99998      NaN      NaN  \n",
       "99999      NaN      NaN  \n",
       "\n",
       "[100000 rows x 28 columns]"
      ]
     },
     "execution_count": 1,
     "metadata": {},
     "output_type": "execute_result"
    }
   ],
   "source": [
    "import pandas as pd\n",
    "from sodapy import Socrata\n",
    "import re\n",
    "from sqlalchemy import create_engine\n",
    "from config import USERNAME, APP_TOKEN, DB, PASSWORD\n",
    "\n",
    "client = Socrata(\"data.lacity.org\",\n",
    "                  f'{APP_TOKEN}',\n",
    "                  username=f\"{USERNAME}\",\n",
    "                  password=f\"{PASSWORD}\")\n",
    "\n",
    "\n",
    "results = client.get(\"2nrs-mtv8\", order=\"date_rptd desc\", limit=100000)\n",
    "results_df = pd.DataFrame.from_records(results)\n",
    "df = results_df\n",
    "df"
   ]
  },
  {
   "attachments": {},
   "cell_type": "markdown",
   "id": "b539177a-12d3-478b-861d-9e6dfa07de23",
   "metadata": {},
   "source": [
    "<h1> Transform Data </h1>"
   ]
  },
  {
   "cell_type": "code",
   "execution_count": 2,
   "id": "b3e1ec7c",
   "metadata": {},
   "outputs": [
    {
     "data": {
      "text/plain": [
       "Index(['dr_no', 'date_rptd', 'date_occ', 'time_occ', 'area', 'area_name',\n",
       "       'rpt_dist_no', 'part_1_2', 'crm_cd', 'crm_cd_desc', 'mocodes',\n",
       "       'vict_age', 'premis_cd', 'premis_desc', 'status', 'status_desc',\n",
       "       'crm_cd_1', 'location', 'lat', 'lon', 'weapon_used_cd', 'weapon_desc',\n",
       "       'cross_street', 'vict_sex', 'vict_descent', 'crm_cd_2', 'crm_cd_3',\n",
       "       'crm_cd_4'],\n",
       "      dtype='object')"
      ]
     },
     "execution_count": 2,
     "metadata": {},
     "output_type": "execute_result"
    }
   ],
   "source": [
    "df.columns"
   ]
  },
  {
   "cell_type": "markdown",
   "id": "10e8645b",
   "metadata": {},
   "source": [
    "# Process Columns Names"
   ]
  },
  {
   "cell_type": "code",
   "execution_count": 3,
   "id": "53126087",
   "metadata": {},
   "outputs": [
    {
     "data": {
      "text/plain": [
       "Index(['dr_no', 'date_rptd', 'date_occ', 'time_occ', 'area', 'area_name',\n",
       "       'rpt_dist_no', 'part_1_2', 'crm_cd', 'crm_cd_desc', 'mocodes',\n",
       "       'vict_age', 'premis_cd', 'premis_desc', 'status', 'status_desc',\n",
       "       'crm_cd_1', 'location', 'lat', 'lon', 'weapon_used_cd', 'weapon_desc',\n",
       "       'cross_street', 'vict_sex', 'vict_descent', 'crm_cd_2', 'crm_cd_3',\n",
       "       'crm_cd_4'],\n",
       "      dtype='object')"
      ]
     },
     "execution_count": 3,
     "metadata": {},
     "output_type": "execute_result"
    }
   ],
   "source": [
    "df.columns = map(str.lower, df.columns)\n",
    "df.columns = df.columns.str.replace(' ', '_')\n",
    "df.columns = df.columns.str.replace('-', '_')\n",
    "df = df.rename(columns={'area_': 'area'})\n",
    "df.columns"
   ]
  },
  {
   "cell_type": "markdown",
   "id": "bf84502a",
   "metadata": {},
   "source": [
    "# Only Males and Females Values"
   ]
  },
  {
   "cell_type": "code",
   "execution_count": 4,
   "id": "838c1d94-35f3-4b28-a203-66b1f1781dcb",
   "metadata": {},
   "outputs": [],
   "source": [
    "df = df[(df['vict_sex'] == 'F') | (df['vict_sex'] == 'M')]"
   ]
  },
  {
   "cell_type": "markdown",
   "id": "fe54dd53",
   "metadata": {},
   "source": [
    "# Filter Vitcims Race"
   ]
  },
  {
   "cell_type": "code",
   "execution_count": 5,
   "id": "5c58d49d-8e82-4145-a222-561007ce960d",
   "metadata": {},
   "outputs": [],
   "source": [
    "df = df[df['vict_descent'].notna()]\n",
    "df = df[df['vict_descent'] != 'X']\n",
    "df = df[df['vict_descent'] != '-']"
   ]
  },
  {
   "cell_type": "markdown",
   "id": "d7d1dfe3",
   "metadata": {},
   "source": [
    "# VICTIM AGE DATA TYPE"
   ]
  },
  {
   "cell_type": "code",
   "execution_count": 60,
   "id": "bde4fe13-c27f-4a4c-8f77-ea3a6e843cab",
   "metadata": {},
   "outputs": [],
   "source": [
    "df = df.astype({'vict_age':'int'})\n",
    "df = df[df['vict_age'] > 0]\n",
    "df = df.astype({'lon' : 'float', 'lat' : 'float'})\n",
    "df = df[df['lon'] != 0]\n",
    "df = df[df['lat'] != 0]\n"
   ]
  },
  {
   "cell_type": "markdown",
   "id": "a6bec1c7",
   "metadata": {},
   "source": [
    "# Drop Unnecessary Columns"
   ]
  },
  {
   "cell_type": "code",
   "execution_count": 61,
   "id": "15e83c78-d092-41f8-a3f8-f0bda3d44650",
   "metadata": {},
   "outputs": [
    {
     "data": {
      "text/plain": [
       "Index(['dr_no', 'date_rptd', 'date_occ', 'time_occ', 'area', 'area_name',\n",
       "       'crm_cd', 'crm_cd_desc', 'vict_age', 'vict_sex', 'vict_descent',\n",
       "       'premis_cd', 'premis_desc', 'status', 'status_desc', 'location', 'lat',\n",
       "       'lon', 'weapon_used_cd', 'weapon_desc'],\n",
       "      dtype='object')"
      ]
     },
     "execution_count": 61,
     "metadata": {},
     "output_type": "execute_result"
    }
   ],
   "source": [
    "columns_to_drop = ['mocodes', 'rpt_dist_no', 'part_1_2', \n",
    "                   'crm_cd_1', 'crm_cd_2', 'crm_cd_3', \n",
    "                   'crm_cd_4', 'cross_street']\n",
    "crimes = df.drop(columns_to_drop, axis=1)\n",
    "crimes.columns"
   ]
  },
  {
   "cell_type": "markdown",
   "id": "1333cfab",
   "metadata": {},
   "source": [
    "# Convert From Military Time Into Standard Time"
   ]
  },
  {
   "cell_type": "code",
   "execution_count": 62,
   "id": "b3ea7857-3ec3-44e9-9ccb-31d27681c4c3",
   "metadata": {},
   "outputs": [],
   "source": [
    "crimes['time_occ'] = pd.to_datetime(crimes['time_occ'].astype(str).str.zfill(4), format='%H%M').dt.time\n",
    "crimes['date_occ'] = pd.to_datetime(crimes['date_occ']).dt.date\n",
    "crimes['date_rptd'] = pd.to_datetime(crimes['date_rptd']).dt.date"
   ]
  },
  {
   "cell_type": "markdown",
   "id": "0377251b",
   "metadata": {},
   "source": [
    "# Make ID Column for Each Race"
   ]
  },
  {
   "cell_type": "code",
   "execution_count": 63,
   "id": "0fb53446-c8ad-4009-897b-41526e2af612",
   "metadata": {},
   "outputs": [],
   "source": [
    "crimes.loc[crimes['vict_descent'] == 'A', 'vict_descent'] = 'ASIAN'\n",
    "crimes.loc[crimes['vict_descent'] == 'B', 'vict_descent'] = 'BLACK'\n",
    "crimes.loc[crimes['vict_descent'] == 'C', 'vict_descent'] = 'CHINESE'\n",
    "crimes.loc[crimes['vict_descent'] == 'D', 'vict_descent'] = 'CAMBODIAN'\n",
    "crimes.loc[crimes['vict_descent'] == 'F', 'vict_descent'] = 'FILIPINO'\n",
    "crimes.loc[crimes['vict_descent'] == 'G', 'vict_descent'] = 'GUAMANIAN'\n",
    "crimes.loc[crimes['vict_descent'] == 'H', 'vict_descent'] = 'Hispanic/Latin/Mexican'\n",
    "crimes.loc[crimes['vict_descent'] == 'I', 'vict_descent'] = 'American Indian/Alaskan Native'\n",
    "crimes.loc[crimes['vict_descent'] == 'J', 'vict_descent'] = 'JAPANESE'\n",
    "crimes.loc[crimes['vict_descent'] == 'K', 'vict_descent'] = 'KOREAN'\n",
    "crimes.loc[crimes['vict_descent'] == 'L', 'vict_descent'] = 'LAOTIAN'\n",
    "crimes.loc[crimes['vict_descent'] == 'O', 'vict_descent'] = 'OTHER'\n",
    "crimes.loc[crimes['vict_descent'] == 'P', 'vict_descent'] = 'PACIFIC ISLANDER'\n",
    "crimes.loc[crimes['vict_descent'] == 'S', 'vict_descent'] = 'SAMOAN'\n",
    "crimes.loc[crimes['vict_descent'] == 'U', 'vict_descent'] = 'HAWAIIAN'\n",
    "crimes.loc[crimes['vict_descent'] == 'V', 'vict_descent'] = 'VIETNAMESE'\n",
    "crimes.loc[crimes['vict_descent'] == 'W', 'vict_descent'] = 'WHITE'\n",
    "crimes.loc[crimes['vict_descent'] == 'Z', 'vict_descent'] = 'ASIAN INDIAN'\n",
    "crimes['descent_id'] = pd.factorize(crimes['vict_descent'])[0]"
   ]
  },
  {
   "cell_type": "code",
   "execution_count": 64,
   "id": "51dd560c-9d94-4c03-a8cf-3668047e8e1f",
   "metadata": {},
   "outputs": [
    {
     "data": {
      "text/plain": [
       "18"
      ]
     },
     "execution_count": 64,
     "metadata": {},
     "output_type": "execute_result"
    }
   ],
   "source": [
    "crimes = crimes.drop_duplicates(subset=['dr_no'])\n",
    "crimes['descent_id'].nunique()"
   ]
  },
  {
   "cell_type": "markdown",
   "id": "1717254d",
   "metadata": {},
   "source": [
    "# Replace NULL VALUES IN WEAPON COLUMNS WITH ACTUAL VALUE"
   ]
  },
  {
   "cell_type": "code",
   "execution_count": 65,
   "id": "18a454fa-6e2f-4946-a235-6b7ce083fffb",
   "metadata": {},
   "outputs": [],
   "source": [
    "crimes['weapon_used_cd'].fillna(0, inplace=True)\n",
    "crimes['weapon_desc'].fillna('NO WEAPON', inplace=True)"
   ]
  },
  {
   "cell_type": "markdown",
   "id": "371718aa",
   "metadata": {},
   "source": [
    "# LAST CHECK FOR NULLS"
   ]
  },
  {
   "cell_type": "code",
   "execution_count": 66,
   "id": "2f007c40-5104-4ffc-ab0c-c9a04e4e6337",
   "metadata": {},
   "outputs": [],
   "source": [
    "crimes = crimes[crimes['premis_cd'].notna()]\n",
    "crimes = crimes[crimes['premis_desc'].notna()]\n",
    "crimes = crimes[crimes['status'].notna()]\n",
    "crimes = crimes[crimes['area'].notna()]"
   ]
  },
  {
   "cell_type": "markdown",
   "id": "99fa7935",
   "metadata": {},
   "source": [
    "# GET RID OF EXTRA SPACE IN LOCATION COLUMNS"
   ]
  },
  {
   "cell_type": "code",
   "execution_count": 67,
   "id": "da8eb396-a2eb-49a5-a4fc-491c41b2fe37",
   "metadata": {},
   "outputs": [],
   "source": [
    "crimes['location'] = crimes['location'].replace(r'\\s+', ' ', regex=True)"
   ]
  },
  {
   "cell_type": "code",
   "execution_count": 68,
   "id": "92f19d11-1163-46c1-9641-6a03a5f6292c",
   "metadata": {},
   "outputs": [
    {
     "data": {
      "text/plain": [
       "0                600 WALL ST\n",
       "1               3000 10TH AV\n",
       "3        9600 N SEPULVEDA BL\n",
       "6          3900 LOS FELIZ BL\n",
       "8             7400 RESEDA BL\n",
       "                ...         \n",
       "99993         20600 CLARK ST\n",
       "99994        3500 W ADAMS BL\n",
       "99995          5100 ASCOT AV\n",
       "99997        8700 DE SOTO AV\n",
       "99998     100 N RIDGEWOOD PL\n",
       "Name: location, Length: 74734, dtype: object"
      ]
     },
     "execution_count": 68,
     "metadata": {},
     "output_type": "execute_result"
    }
   ],
   "source": [
    "crimes['location']"
   ]
  },
  {
   "cell_type": "markdown",
   "id": "028d260e",
   "metadata": {},
   "source": [
    "# SORT AND SAVE AS CSV"
   ]
  },
  {
   "cell_type": "code",
   "execution_count": 69,
   "id": "05a676eb-f75d-43f7-8ae9-b412b9a39252",
   "metadata": {},
   "outputs": [],
   "source": [
    "sorted = crimes.sort_values(['date_occ', 'time_occ'])"
   ]
  },
  {
   "cell_type": "code",
   "execution_count": 70,
   "id": "60e55619-b313-4d34-af2a-bc2d672c9f23",
   "metadata": {},
   "outputs": [
    {
     "data": {
      "text/plain": [
       "dr_no             0\n",
       "date_rptd         0\n",
       "date_occ          0\n",
       "time_occ          0\n",
       "area              0\n",
       "area_name         0\n",
       "crm_cd            0\n",
       "crm_cd_desc       0\n",
       "vict_age          0\n",
       "vict_sex          0\n",
       "vict_descent      0\n",
       "premis_cd         0\n",
       "premis_desc       0\n",
       "status            0\n",
       "status_desc       0\n",
       "location          0\n",
       "lat               0\n",
       "lon               0\n",
       "weapon_used_cd    0\n",
       "weapon_desc       0\n",
       "descent_id        0\n",
       "dtype: int64"
      ]
     },
     "execution_count": 70,
     "metadata": {},
     "output_type": "execute_result"
    }
   ],
   "source": [
    "sorted.isna().sum()"
   ]
  },
  {
   "cell_type": "code",
   "execution_count": 71,
   "id": "de738c6e-9ecc-47bd-aa52-6f4c7bd7c50a",
   "metadata": {},
   "outputs": [],
   "source": [
    "sorted.to_csv('Last_ETL.csv', index=False)"
   ]
  },
  {
   "attachments": {},
   "cell_type": "markdown",
   "id": "7ae201d2-55a9-498a-89b8-4d6be70ea77a",
   "metadata": {},
   "source": [
    "# Load Data Into DB "
   ]
  },
  {
   "cell_type": "code",
   "execution_count": 72,
   "id": "ea3efb46-a732-48e7-a178-da91a2c22f6f",
   "metadata": {},
   "outputs": [],
   "source": [
    "dbEngine = create_engine(f\"mysql+mysqldb://{DB}/crimes\")"
   ]
  },
  {
   "cell_type": "code",
   "execution_count": 73,
   "id": "6ad932a2-2485-45e5-b3cf-118fb2308601",
   "metadata": {},
   "outputs": [
    {
     "name": "stderr",
     "output_type": "stream",
     "text": [
      "C:\\Users\\User\\AppData\\Local\\Temp\\ipykernel_19260\\1564963534.py:5: UserWarning: The provided table name 'TEMP' is not found exactly as such in the database after writing the table, possibly due to case sensitivity issues. Consider using lower case table names.\n",
      "  area.to_sql(con = dbEngine, name = 'TEMP', if_exists='append',index=False)\n"
     ]
    }
   ],
   "source": [
    "#Area\n",
    "area = sorted[['area', 'area_name']]\n",
    "area = area.drop_duplicates(subset=['area'])\n",
    "area = area.rename(columns={'area': 'areaID', 'area_name' : 'areaName'})\n",
    "area.to_sql(con = dbEngine, name = 'TEMP', if_exists='append', index=False)\n",
    "with dbEngine.begin() as cnx:\n",
    "    insert_sql = 'INSERT IGNORE INTO DIM_AREA (SELECT * FROM TEMP)'\n",
    "    cnx.execute(insert_sql)\n",
    "    delete_sql = 'DROP TABLE TEMP'\n",
    "    cnx.execute(delete_sql)"
   ]
  },
  {
   "cell_type": "code",
   "execution_count": null,
   "id": "1f393a13",
   "metadata": {},
   "outputs": [],
   "source": []
  },
  {
   "cell_type": "code",
   "execution_count": 74,
   "id": "6a8cd2f2-a0b1-435f-944b-9b39710ff1e9",
   "metadata": {},
   "outputs": [
    {
     "name": "stderr",
     "output_type": "stream",
     "text": [
      "C:\\Users\\User\\AppData\\Local\\Temp\\ipykernel_19260\\2785306800.py:5: UserWarning: The provided table name 'TEMP' is not found exactly as such in the database after writing the table, possibly due to case sensitivity issues. Consider using lower case table names.\n",
      "  location.to_sql(con = dbEngine, name = 'TEMP', if_exists='append',index=False)\n"
     ]
    }
   ],
   "source": [
    "#LOCATION\n",
    "location = sorted[['area', 'location', 'lat', 'lon']]\n",
    "location = location.drop_duplicates(['location'])\n",
    "location = location.rename(columns={'area': 'areaID', 'location': 'location', 'lat' : 'LAT', 'lon' : 'LON'})\n",
    "location.to_sql(con = dbEngine, name = 'TEMP', if_exists='append',index=False)\n",
    "with dbEngine.begin() as cnx:\n",
    "    insert_sql = 'INSERT IGNORE INTO DIM_LOCATION (SELECT * FROM TEMP)'\n",
    "    cnx.execute(insert_sql)\n",
    "    delete_sql = 'DROP TABLE TEMP'\n",
    "    cnx.execute(delete_sql)"
   ]
  },
  {
   "cell_type": "code",
   "execution_count": 75,
   "id": "933b7954-ac10-449a-bc94-768667fdde10",
   "metadata": {},
   "outputs": [
    {
     "name": "stderr",
     "output_type": "stream",
     "text": [
      "C:\\Users\\User\\AppData\\Local\\Temp\\ipykernel_19260\\3972594713.py:5: UserWarning: The provided table name 'TEMP' is not found exactly as such in the database after writing the table, possibly due to case sensitivity issues. Consider using lower case table names.\n",
      "  premis.to_sql(con = dbEngine, name = 'TEMP', if_exists='append',index=False)\n"
     ]
    }
   ],
   "source": [
    "#PREMIS\n",
    "premis = sorted[['premis_cd', 'premis_desc']]\n",
    "premis = premis.drop_duplicates(subset=['premis_cd'])\n",
    "premis = premis.rename(columns={'premis_cd': 'premisID', 'premis_desc': 'premisDesc'})\n",
    "premis.to_sql(con = dbEngine, name = 'TEMP', if_exists='append',index=False)\n",
    "with dbEngine.begin() as cnx:\n",
    "    insert_sql = 'INSERT IGNORE INTO DIM_PREMIS (SELECT * FROM TEMP)'\n",
    "    cnx.execute(insert_sql)\n",
    "    delete_sql = 'DROP TABLE TEMP'\n",
    "    cnx.execute(delete_sql)"
   ]
  },
  {
   "cell_type": "code",
   "execution_count": 76,
   "id": "b4c80b3b-5bd7-46f4-ab28-2a6cb3ea8df0",
   "metadata": {},
   "outputs": [
    {
     "name": "stderr",
     "output_type": "stream",
     "text": [
      "C:\\Users\\User\\AppData\\Local\\Temp\\ipykernel_19260\\4066762997.py:5: UserWarning: The provided table name 'TEMP' is not found exactly as such in the database after writing the table, possibly due to case sensitivity issues. Consider using lower case table names.\n",
      "  crimes.to_sql(con = dbEngine, name = 'TEMP', if_exists='append',index=False)\n"
     ]
    }
   ],
   "source": [
    "#CRIMES\n",
    "crimes = sorted[['crm_cd', 'crm_cd_desc']]\n",
    "crimes = crimes.drop_duplicates(subset=['crm_cd'])\n",
    "crimes = crimes.rename(columns={'crm_cd': 'crimeID', 'crm_cd_desc': 'crimeDesc'})\n",
    "crimes.to_sql(con = dbEngine, name = 'TEMP', if_exists='append',index=False)\n",
    "with dbEngine.begin() as cnx:\n",
    "    insert_sql = 'INSERT IGNORE INTO DIM_CRIMES (SELECT * FROM TEMP)'\n",
    "    cnx.execute(insert_sql)\n",
    "    delete_sql = 'DROP TABLE TEMP'\n",
    "    cnx.execute(delete_sql)"
   ]
  },
  {
   "cell_type": "code",
   "execution_count": 77,
   "id": "a62d20c7-9ef7-49a8-abc4-c8b51c5c96c2",
   "metadata": {},
   "outputs": [
    {
     "name": "stderr",
     "output_type": "stream",
     "text": [
      "C:\\Users\\User\\AppData\\Local\\Temp\\ipykernel_19260\\2699700056.py:5: UserWarning: The provided table name 'TEMP' is not found exactly as such in the database after writing the table, possibly due to case sensitivity issues. Consider using lower case table names.\n",
      "  status.to_sql(con = dbEngine, name = 'TEMP', if_exists='append',index=False)\n"
     ]
    }
   ],
   "source": [
    "#Status\n",
    "status = sorted[['status', 'status_desc']]\n",
    "status = status.drop_duplicates(subset=['status'])\n",
    "status = status.rename(columns={'status': 'statusID', 'status_desc': 'statusDesc'})\n",
    "status.to_sql(con = dbEngine, name = 'TEMP', if_exists='append',index=False)\n",
    "with dbEngine.begin() as cnx:\n",
    "    insert_sql = 'INSERT IGNORE INTO DIM_STATUS (SELECT * FROM TEMP)'\n",
    "    cnx.execute(insert_sql)\n",
    "    delete_sql = 'DROP TABLE TEMP'\n",
    "    cnx.execute(delete_sql)"
   ]
  },
  {
   "cell_type": "code",
   "execution_count": 78,
   "id": "f7fd3c13-4247-491a-85d5-b393df150992",
   "metadata": {},
   "outputs": [
    {
     "name": "stderr",
     "output_type": "stream",
     "text": [
      "C:\\Users\\User\\AppData\\Local\\Temp\\ipykernel_19260\\2087642689.py:5: UserWarning: The provided table name 'TEMP' is not found exactly as such in the database after writing the table, possibly due to case sensitivity issues. Consider using lower case table names.\n",
      "  time.to_sql(con = dbEngine, name = 'TEMP', if_exists='append',index=False)\n"
     ]
    }
   ],
   "source": [
    "#TIME\n",
    "time = sorted[['dr_no', 'date_rptd', 'date_occ', 'time_occ']]\n",
    "time = time.drop_duplicates(subset=['dr_no'])\n",
    "time = time.rename(columns={'dr_no': 'caseNumber', 'date_rptd': 'DateReport', 'date_occ': 'DateOcc', 'time_occ': 'TimeOcc'})\n",
    "time.to_sql(con = dbEngine, name = 'TEMP', if_exists='append',index=False)\n",
    "with dbEngine.begin() as cnx:\n",
    "    insert_sql = 'INSERT IGNORE INTO DIM_TIME (SELECT * FROM TEMP)'\n",
    "    cnx.execute(insert_sql)\n",
    "    delete_sql = 'DROP TABLE TEMP'\n",
    "    cnx.execute(delete_sql)"
   ]
  },
  {
   "cell_type": "code",
   "execution_count": 79,
   "id": "c3df4dc0",
   "metadata": {},
   "outputs": [
    {
     "name": "stderr",
     "output_type": "stream",
     "text": [
      "C:\\Users\\User\\AppData\\Local\\Temp\\ipykernel_19260\\156934974.py:5: UserWarning: The provided table name 'TEMP' is not found exactly as such in the database after writing the table, possibly due to case sensitivity issues. Consider using lower case table names.\n",
      "  descent.to_sql(con = dbEngine, name = 'TEMP', if_exists='append',index=False)\n"
     ]
    }
   ],
   "source": [
    "#Decent\n",
    "descent = sorted[['descent_id', 'vict_descent']]\n",
    "descent = descent.drop_duplicates(subset=['descent_id'])\n",
    "descent = descent.rename(columns={'descent_id' : 'id', 'vict_descent': 'victDescent'})\n",
    "descent.to_sql(con = dbEngine, name = 'TEMP', if_exists='append',index=False)\n",
    "\n",
    "with dbEngine.begin() as cnx:\n",
    "    insert_sql = 'INSERT IGNORE INTO vict_descent (SELECT * FROM TEMP)'\n",
    "    cnx.execute(insert_sql)\n",
    "    delete_sql = 'DROP TABLE TEMP'\n",
    "    cnx.execute(delete_sql)"
   ]
  },
  {
   "cell_type": "code",
   "execution_count": 80,
   "id": "854ccc5a-8200-4a95-9156-e27e42aca0e6",
   "metadata": {},
   "outputs": [
    {
     "name": "stderr",
     "output_type": "stream",
     "text": [
      "C:\\Users\\User\\AppData\\Local\\Temp\\ipykernel_19260\\104506362.py:5: UserWarning: The provided table name 'TEMP' is not found exactly as such in the database after writing the table, possibly due to case sensitivity issues. Consider using lower case table names.\n",
      "  victums.to_sql(con = dbEngine, name = 'TEMP', if_exists='append',index=False)\n"
     ]
    }
   ],
   "source": [
    "#Victums\n",
    "victums = sorted[['dr_no', 'vict_age', 'descent_id', 'vict_sex']]\n",
    "victums = victums.drop_duplicates(subset=['dr_no'])\n",
    "victums = victums.rename(columns={'dr_no': 'caseNumber', 'vict_age': 'VictAge', 'descent_id': 'VictDescent', 'vict_sex': 'VictSex'})\n",
    "victums.to_sql(con = dbEngine, name = 'TEMP', if_exists='append',index=False)\n",
    "with dbEngine.begin() as cnx:\n",
    "    insert_sql = 'INSERT IGNORE INTO dim_victums (SELECT * FROM TEMP)'\n",
    "    cnx.execute(insert_sql)\n",
    "    delete_sql = 'DROP TABLE TEMP'\n",
    "    cnx.execute(delete_sql)"
   ]
  },
  {
   "cell_type": "code",
   "execution_count": 81,
   "id": "2434b2cb-5992-4214-9420-e0344798d2e0",
   "metadata": {},
   "outputs": [
    {
     "name": "stderr",
     "output_type": "stream",
     "text": [
      "C:\\Users\\User\\AppData\\Local\\Temp\\ipykernel_19260\\3279518381.py:5: UserWarning: The provided table name 'TEMP' is not found exactly as such in the database after writing the table, possibly due to case sensitivity issues. Consider using lower case table names.\n",
      "  weapons.to_sql(con = dbEngine, name = 'TEMP', if_exists='append',index=False)\n"
     ]
    }
   ],
   "source": [
    "#WEAPONS\n",
    "weapons = sorted[['weapon_used_cd', 'weapon_desc']]\n",
    "weapons = weapons.drop_duplicates(subset=['weapon_used_cd'])\n",
    "weapons = weapons.rename(columns={'weapon_used_cd' : 'weaponID', 'weapon_desc': 'weaponDesc'})\n",
    "weapons.to_sql(con = dbEngine, name = 'TEMP', if_exists='append',index=False)\n",
    "with dbEngine.begin() as cnx:\n",
    "    insert_sql = 'INSERT IGNORE INTO DIM_WEAPONS (SELECT * FROM TEMP)'\n",
    "    cnx.execute(insert_sql)\n",
    "    delete_sql = 'DROP TABLE TEMP'\n",
    "    cnx.execute(delete_sql)"
   ]
  },
  {
   "cell_type": "code",
   "execution_count": 82,
   "id": "b0ebf1be-fcf9-4fc7-98a8-6ecfc67a00d1",
   "metadata": {},
   "outputs": [
    {
     "name": "stderr",
     "output_type": "stream",
     "text": [
      "C:\\Users\\User\\AppData\\Local\\Temp\\ipykernel_19260\\4240749436.py:4: UserWarning: The provided table name 'TEMP' is not found exactly as such in the database after writing the table, possibly due to case sensitivity issues. Consider using lower case table names.\n",
      "  facts.to_sql(con = dbEngine, name = 'TEMP', if_exists='append',index=False)\n"
     ]
    }
   ],
   "source": [
    "#FACTS\n",
    "facts = sorted[['area', 'crm_cd', 'dr_no', 'premis_cd', 'status', 'weapon_used_cd']]\n",
    "facts = facts.rename(columns={'area' : 'areaID', 'crm_cd' : 'crimeID', 'dr_no' : 'caseNumber', 'premis_cd': 'premisID', \n",
    "'weapon_used_cd': 'weaponID', 'status': 'statusID'})\n",
    "facts.to_sql(con = dbEngine, name = 'TEMP', if_exists='append',index=False)\n",
    "with dbEngine.begin() as cnx:\n",
    "    insert_sql = 'INSERT IGNORE INTO FACTS (SELECT * FROM TEMP)'\n",
    "    cnx.execute(insert_sql)\n",
    "    delete_sql = 'DROP TABLE TEMP'\n",
    "    cnx.execute(delete_sql)"
   ]
  }
 ],
 "metadata": {
  "kernelspec": {
   "display_name": "base",
   "language": "python",
   "name": "python3"
  },
  "language_info": {
   "codemirror_mode": {
    "name": "ipython",
    "version": 3
   },
   "file_extension": ".py",
   "mimetype": "text/x-python",
   "name": "python",
   "nbconvert_exporter": "python",
   "pygments_lexer": "ipython3",
   "version": "3.9.13"
  },
  "vscode": {
   "interpreter": {
    "hash": "f08154012ddadd8e950e6e9e035c7a7b32c136e7647e9b7c77e02eb723a8bedb"
   }
  }
 },
 "nbformat": 4,
 "nbformat_minor": 5
}
